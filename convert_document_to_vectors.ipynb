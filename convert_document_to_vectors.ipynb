{
 "cells": [
  {
   "cell_type": "code",
   "execution_count": 52,
   "metadata": {},
   "outputs": [],
   "source": [
    "from langchain.document_loaders import DirectoryLoader\n",
    "from langchain.text_splitter import CharacterTextSplitter"
   ]
  },
  {
   "cell_type": "code",
   "execution_count": null,
   "metadata": {},
   "outputs": [],
   "source": [
    "# create loader from data directory\n",
    "loader = DirectoryLoader('data')\n",
    "# create documents variable with all docs from loader variable\n",
    "docs = loader.load()\n",
    "# split text into chunks of 1000 chars - this isn't working so good but it is chunking content\n",
    "char_text_splitter = CharacterTextSplitter(chunk_size=1000, chunk_overlap=0)\n",
    "# split the text into individual documents\n",
    "doc_texts = char_text_splitter.split_documents(docs)\n",
    "\n",
    "## uncomment to see results\n",
    "# doc_texts"
   ]
  },
  {
   "cell_type": "code",
   "execution_count": 61,
   "metadata": {},
   "outputs": [],
   "source": [
    "from langchain.vectorstores import Pinecone\n",
    "from langchain.embeddings.openai import OpenAIEmbeddings"
   ]
  },
  {
   "cell_type": "code",
   "execution_count": 55,
   "metadata": {},
   "outputs": [],
   "source": [
    "import os\n",
    "\n",
    "OPENAI_APIKEY = os.environ[\"OPENAI_APIKEY\"]\n",
    "\n",
    "# set embeddings model\n",
    "EMBEDDING_MODEL = \"text-embedding-ada-002\"\n",
    "embeddings = OpenAIEmbeddings(openai_api_key=OPENAI_APIKEY)"
   ]
  },
  {
   "cell_type": "code",
   "execution_count": 69,
   "metadata": {},
   "outputs": [],
   "source": [
    "# import pinecone\n",
    "import pinecone\n",
    "\n",
    "PINECONE_APIKEY = os.environ['PINECONE_APIKEY']\n",
    "PINECONE_ENVIRONMENT = os.environ['PINECONE_ENVIRONMENT']\n",
    "PINECONE_INDEX_NAME = os.environ['PINECONE_INDEX_NAME']\n",
    "\n",
    "# initalize pinecone\n",
    "pinecone.init(\n",
    "    api_key=PINECONE_APIKEY,\n",
    "    environment=PINECONE_ENVIRONMENT\n",
    ")\n",
    "# name of the pinecone index stored as a variable\n",
    "index_name = PINECONE_INDEX_NAME\n",
    "# connect to pinecone index\n",
    "index = pinecone.Index(index_name)"
   ]
  },
  {
   "cell_type": "code",
   "execution_count": null,
   "metadata": {},
   "outputs": [],
   "source": [
    "# show stats of the current index\n",
    "index.describe_index_stats()"
   ]
  },
  {
   "cell_type": "code",
   "execution_count": 62,
   "metadata": {},
   "outputs": [],
   "source": [
    "# create embeddings using langchain.vectorstores & openai and send all vectors to the pinecone vector database\n",
    "doc_store = Pinecone.from_texts([d.page_content for d in doc_texts], embeddings, index_name=index_name)"
   ]
  }
 ],
 "metadata": {
  "kernelspec": {
   "display_name": ".env",
   "language": "python",
   "name": "python3"
  },
  "language_info": {
   "codemirror_mode": {
    "name": "ipython",
    "version": 3
   },
   "file_extension": ".py",
   "mimetype": "text/x-python",
   "name": "python",
   "nbconvert_exporter": "python",
   "pygments_lexer": "ipython3",
   "version": "3.11.0"
  },
  "orig_nbformat": 4
 },
 "nbformat": 4,
 "nbformat_minor": 2
}
